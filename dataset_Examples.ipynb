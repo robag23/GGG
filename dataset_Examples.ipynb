{
 "cells": [
  {
   "cell_type": "code",
   "execution_count": null,
   "metadata": {},
   "outputs": [],
   "source": [
    "1. # a. Select the 'Limit' and 'Rating' columns of the first five observations\n",
    "    selected_columns = df[['Limit', 'Rating']].head(5)\n",
    "\n",
    "   # b. Select the first five observations with 4 cards\n",
    "    observations_with_4_cards = df[df['Cards'] == 4].head(5)\n",
    "\n",
    "   # c. Sort the observations by 'Education'. Show users with a high education value first.\n",
    "    sorted_by_education = df.sort_values(by='Education', ascending=False)\n",
    "\n",
    "2. a. df.iloc[:, :] # This line of code uses the iloc indexer to select all rows (:) and all columns (:) from the DataFrame df. It effectively retrieves the entire DataFrame.\n",
    "\n",
    "   b. df.iloc[5:, 5:] # This line of code uses iloc to select rows starting from the 6th row (5:) and columns starting from the 6th column (5:). It retrieves a subset of the DataFrame, excluding the first five rows and columns.\n",
    "\n",
    "   c. df.iloc[:, 0] # This line of code uses iloc to select all rows (:) and only the first column (0) of the DataFrame df. It retrieves a specific column as a Series.\n",
    "\n",
    "\n",
    "   d. df.iloc[9, :] # This line of code uses iloc to select the 10th row (9) and all columns (:) of the DataFrame df. It retrieves a specific row as a Series."
   ]
  }
 ],
 "metadata": {
  "language_info": {
   "name": "python"
  }
 },
 "nbformat": 4,
 "nbformat_minor": 2
}
