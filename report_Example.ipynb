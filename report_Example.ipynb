{
 "cells": [
  {
   "cell_type": "code",
   "execution_count": null,
   "metadata": {},
   "outputs": [],
   "source": [
    "import pandas as pd\n",
    "\n",
    "# Load data from balance.txt into a DataFrame\n",
    "file_path = 'balance.txt'\n",
    "df = pd.read_csv(file_path, delimiter='\\t')\n",
    "\n",
    "# Display the DataFrame for verification\n",
    "print(\"DataFrame:\")\n",
    "print(df.head())\n",
    "\n",
    "# Compare the average income based on ethnicity\n",
    "average_income_by_ethnicity = df.groupby('ethnicity')['income'].mean()\n",
    "\n",
    "# On average, do married or single people have a higher balance?\n",
    "average_balance_by_marital_status = df.groupby('marital_status')['balance'].mean()\n",
    "\n",
    "# What is the highest income in our dataset?\n",
    "highest_income = df['income'].max()\n",
    "\n",
    "# What is the lowest income in our dataset?\n",
    "lowest_income = df['income'].min()\n",
    "\n",
    "# How many cards do we have recorded in our dataset?\n",
    "total_cards_recorded = df['cards'].sum()\n",
    "\n",
    "# How many females do we have information for vs how many males?\n",
    "gender_counts = df['gender'].value_counts()\n",
    "\n",
    "# Display the report\n",
    "print(\"\\nReport:\")\n",
    "print(\"\\nAverage Income by Ethnicity:\")\n",
    "print(average_income_by_ethnicity)\n",
    "\n",
    "print(\"\\nAverage Balance by Marital Status:\")\n",
    "print(average_balance_by_marital_status)\n",
    "\n",
    "print(\"\\nHighest Income in the Dataset:\", highest_income)\n",
    "print(\"Lowest Income in the Dataset:\", lowest_income)\n",
    "\n",
    "print(\"\\nTotal Cards Recorded in the Dataset:\", total_cards_recorded)\n",
    "\n",
    "print(\"\\nGender Distribution:\")\n",
    "print(\"Number of Females:\", gender_counts['Female'])\n",
    "print(\"Number of Males:\", gender_counts['Male'])\n"
   ]
  }
 ],
 "metadata": {
  "language_info": {
   "name": "python"
  }
 },
 "nbformat": 4,
 "nbformat_minor": 2
}
